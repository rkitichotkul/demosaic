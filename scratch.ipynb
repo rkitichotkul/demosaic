{
 "cells": [
  {
   "cell_type": "code",
   "execution_count": null,
   "id": "86cdbef6",
   "metadata": {},
   "outputs": [],
   "source": [
    "import numpy as np\n",
    "from matplotlib import pyplot as plt\n",
    "from PIL import Image\n",
    "\n",
    "from pathlib import Path"
   ]
  },
  {
   "cell_type": "markdown",
   "id": "c9f3de69",
   "metadata": {},
   "source": [
    "# Read Simulated RAW image"
   ]
  },
  {
   "cell_type": "code",
   "execution_count": null,
   "id": "fd7bf6a0",
   "metadata": {},
   "outputs": [],
   "source": [
    "def readImageToArray(imagePath):\n",
    "    \"\"\"\n",
    "    Read an image from a file and convert it to a numpy array.\n",
    "    \"\"\"\n",
    "    image = Image.open(imagePath)\n",
    "    return np.array(image)\n",
    "\n",
    "def plotImages(images, titles=None, cols=3):\n",
    "    \"\"\"\n",
    "    Plot a list of images in a grid.\n",
    "    \"\"\"\n",
    "    n = len(images)\n",
    "    rows = (n + cols - 1) // cols\n",
    "    fig, axes = plt.subplots(rows, cols, figsize=(15, 5 * rows))\n",
    "    for i, ax in enumerate(axes.flat):\n",
    "        if i < n:\n",
    "            ax.imshow(images[i], cmap='gray')\n",
    "            if titles is not None:\n",
    "                ax.set_title(titles[i])\n",
    "        ax.axis('off')\n",
    "    plt.tight_layout()\n",
    "    plt.show()\n",
    "\n",
    "def read_raw_with_metadata(filename):\n",
    "    with open(filename, 'rb') as f:\n",
    "        # Read metadata\n",
    "        width = int(f.readline().decode().strip().split()[1])\n",
    "        height = int(f.readline().decode().strip().split()[1])\n",
    "        bayer_pattern = f.readline().decode().strip().split()[1]\n",
    "        \n",
    "        # Skip the \"DATA\" line\n",
    "        f.readline()\n",
    "        \n",
    "        # Read raw pixel data\n",
    "        raw_data = np.fromfile(f, dtype=np.uint8).reshape((height, width))\n",
    "    \n",
    "    return raw_data, width, height, bayer_pattern\n",
    "\n",
    "# # Example usage\n",
    "# raw_data, width, height, bayer_pattern = read_raw_with_metadata('butterfly.raw')\n",
    "# print(f\"Width: {width}, Height: {height}, Bayer Pattern: {bayer_pattern}\")"
   ]
  },
  {
   "cell_type": "code",
   "execution_count": null,
   "id": "dd45d2f0",
   "metadata": {},
   "outputs": [],
   "source": [
    "datapath = Path('demosaic/data')\n",
    "path = Path('demosaic/results')\n",
    "\n",
    "# Read the original image\n",
    "original = readImageToArray(datapath / 'butterfly.jpg')\n",
    "shape = original.shape\n",
    "\n",
    "# Read raw image\n",
    "raw, width, height, bayer_pattern = read_raw_with_metadata(path / 'butterfly.raw')\n",
    "print(f\"Width: {width}, Height: {height}, Bayer Pattern: {bayer_pattern}\")"
   ]
  },
  {
   "cell_type": "code",
   "execution_count": null,
   "id": "d6e4d3cf",
   "metadata": {},
   "outputs": [],
   "source": [
    "# Convert Bayer image to RGB image (RGGB pattern)\n",
    "rawRGB = np.zeros((shape[1], shape[0], 3), dtype=np.uint8)\n",
    "rawRGB[0::2, 0::2, 0] = raw[0::2, 0::2]  # R\n",
    "rawRGB[0::2, 1::2, 1] = raw[0::2, 1::2]  # G\n",
    "rawRGB[1::2, 0::2, 1] = raw[1::2, 0::2]  # G\n",
    "rawRGB[1::2, 1::2, 2] = raw[1::2, 1::2]  # B\n",
    "rawRGB = np.clip(rawRGB, 0, 255).astype(np.uint8)\n",
    "\n",
    "# Load Bayer RGB from C++ code\n",
    "rawRGBCpp = readImageToArray(path / 'butterfly.raw_rgb.png')\n",
    "rawRGBCpp = np.array(rawRGBCpp)\n",
    "\n",
    "print(np.all(rawRGBCpp == rawRGB))"
   ]
  },
  {
   "cell_type": "code",
   "execution_count": null,
   "id": "f35c8763",
   "metadata": {},
   "outputs": [],
   "source": [
    "plotImages([raw, rawRGB, rawRGBCpp], titles=['Raw', 'Bayer RGB', 'Bayer RGB from C++'])"
   ]
  },
  {
   "cell_type": "markdown",
   "id": "f7e267fb",
   "metadata": {},
   "source": [
    "# Read Real RAW Image"
   ]
  },
  {
   "cell_type": "code",
   "execution_count": null,
   "id": "a85d7e6f",
   "metadata": {},
   "outputs": [],
   "source": [
    "import rawpy"
   ]
  },
  {
   "cell_type": "code",
   "execution_count": null,
   "id": "cec22c24",
   "metadata": {},
   "outputs": [],
   "source": [
    "with rawpy.imread('demosaic/data/alpaca.RAF') as raw:\n",
    "    rgb = raw.postprocess()\n",
    "    print(rgb.shape)\n",
    "    plt.imshow(rgb)\n",
    "    plt.show()\n",
    "    raw_image = raw.raw_image\n",
    "    print(raw_image.shape)\n",
    "    plt.imshow(raw_image, cmap='gray')\n",
    "    plt.colorbar()\n",
    "    plt.show()\n",
    "    rawValue = raw_image.copy()\n",
    "\n",
    "    bayer = raw.raw_colors.copy()"
   ]
  },
  {
   "cell_type": "code",
   "execution_count": null,
   "id": "ace9ce5a",
   "metadata": {},
   "outputs": [],
   "source": [
    "bayer"
   ]
  },
  {
   "cell_type": "code",
   "execution_count": null,
   "id": "fec1b66f",
   "metadata": {},
   "outputs": [],
   "source": []
  }
 ],
 "metadata": {
  "kernelspec": {
   "display_name": "base",
   "language": "python",
   "name": "python3"
  },
  "language_info": {
   "codemirror_mode": {
    "name": "ipython",
    "version": 3
   },
   "file_extension": ".py",
   "mimetype": "text/x-python",
   "name": "python",
   "nbconvert_exporter": "python",
   "pygments_lexer": "ipython3",
   "version": "3.11.7"
  }
 },
 "nbformat": 4,
 "nbformat_minor": 5
}
